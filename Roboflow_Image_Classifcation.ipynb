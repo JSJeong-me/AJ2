{
  "nbformat": 4,
  "nbformat_minor": 0,
  "metadata": {
    "colab": {
      "name": "Roboflow-Image-Classifcation.ipynb",
      "provenance": [],
      "collapsed_sections": [],
      "include_colab_link": true
    },
    "kernelspec": {
      "name": "python3",
      "display_name": "Python 3"
    },
    "accelerator": "GPU"
  },
  "cells": [
    {
      "cell_type": "markdown",
      "metadata": {
        "id": "view-in-github",
        "colab_type": "text"
      },
      "source": [
        "<a href=\"https://colab.research.google.com/github/JSJeong-me/AJ2/blob/main/Roboflow_Image_Classifcation.ipynb\" target=\"_parent\"><img src=\"https://colab.research.google.com/assets/colab-badge.svg\" alt=\"Open In Colab\"/></a>"
      ]
    },
    {
      "cell_type": "markdown",
      "metadata": {
        "id": "kuydQ4JMnpqm"
      },
      "source": [
        "\n",
        "# Install fastai dependencies"
      ]
    },
    {
      "cell_type": "code",
      "metadata": {
        "id": "R8UumMi6Wp2J"
      },
      "source": [
        "!pip install fastai"
      ],
      "execution_count": null,
      "outputs": []
    },
    {
      "cell_type": "code",
      "metadata": {
        "id": "egMX0t6bW2v6"
      },
      "source": [
        "from fastai.vision import *"
      ],
      "execution_count": null,
      "outputs": []
    },
    {
      "cell_type": "markdown",
      "metadata": {
        "id": "GbLk0inLnwpJ"
      },
      "source": [
        "# Download Custom Classification Data From Roboflow"
      ]
    },
    {
      "cell_type": "code",
      "metadata": {
        "id": "ElFqfSo99Wpu"
      },
      "source": [
        "#follow the link below to get your download code from from Roboflow\n",
        "!pip install -q roboflow\n",
        "from roboflow import Roboflow\n",
        "rf = Roboflow(model_format=\"folder\", notebook=\"roboflow-resnet\")"
      ],
      "execution_count": null,
      "outputs": []
    },
    {
      "cell_type": "code",
      "metadata": {
        "id": "penyE0IyXeC6"
      },
      "source": [
        "#dataset imported from Roboflow. You can sign up at roboflow.com and upload your image classification dataset\n",
        "# from roboflow import Roboflow\n",
        "# rf = Roboflow(api_key=\"YOUR_API_KEY\")\n",
        "# project = rf.workspace().project(\"YOUR_PROJECT\")\n",
        "# dataset = project.version(\"YOUR VERSION\").download(\"folder\")\n"
      ],
      "execution_count": null,
      "outputs": []
    },
    {
      "cell_type": "code",
      "metadata": {
        "id": "8dqPTT7PQGGH"
      },
      "source": [
        "dataset.location"
      ],
      "execution_count": null,
      "outputs": []
    },
    {
      "cell_type": "code",
      "metadata": {
        "id": "DyyE9YOkYx3Z"
      },
      "source": [
        "#build fastai dataset loader\n",
        "np.random.seed(42)\n",
        "#fastai automatically factors the ./train and ./valid folders into seperate datasets\n",
        "#more details https://docs.fast.ai/vision.data.html#ImageDataLoaders.from_folder\n",
        "path = Path(dataset.location)\n",
        "data = ImageDataBunch.from_folder(path, size=224, num_workers=4).normalize(imagenet_stats)"
      ],
      "execution_count": null,
      "outputs": []
    },
    {
      "cell_type": "code",
      "metadata": {
        "id": "ce7sHGPOZCiA"
      },
      "source": [
        "#double check the data classes\n",
        "data.classes"
      ],
      "execution_count": null,
      "outputs": []
    },
    {
      "cell_type": "code",
      "metadata": {
        "id": "Rs5aqCT6ZjLv"
      },
      "source": [
        "#take a peak at the batch to make sure things were loaded correctly\n",
        "data.show_batch(rows=3, figsize=(7, 8))\n"
      ],
      "execution_count": null,
      "outputs": []
    },
    {
      "cell_type": "markdown",
      "metadata": {
        "id": "0iVCZ49FowXD"
      },
      "source": [
        "# Set up fastai Resnet model"
      ]
    },
    {
      "cell_type": "code",
      "metadata": {
        "id": "aqDLxhf3cb6-"
      },
      "source": [
        "from fastai.metrics import error_rate # 1 - accuracy\n",
        "learn = create_cnn(data, models.resnet34, metrics=error_rate)"
      ],
      "execution_count": null,
      "outputs": []
    },
    {
      "cell_type": "code",
      "metadata": {
        "id": "XFRjhrPFd8nW"
      },
      "source": [
        "#print network layers\n",
        "learn"
      ],
      "execution_count": null,
      "outputs": []
    },
    {
      "cell_type": "markdown",
      "metadata": {
        "id": "9FEfKeufpA98"
      },
      "source": [
        "# Train Custom Resnet Image Classifier"
      ]
    },
    {
      "cell_type": "code",
      "metadata": {
        "id": "NUisfLuMuuKF"
      },
      "source": [
        "from fastai.callbacks import *\n",
        "early_stop = EarlyStoppingCallback(learn, patience=20)\n",
        "save_best_model = SaveModelCallback(learn, name='best_resnet34')"
      ],
      "execution_count": null,
      "outputs": []
    },
    {
      "cell_type": "code",
      "metadata": {
        "id": "QBC7GeNneAde"
      },
      "source": [
        "#frozen training step\n",
        "defaults.device = torch.device('cuda') # makes sure the gpu is used\n",
        "learn.fit_one_cycle(1, callbacks=[early_stop, save_best_model])"
      ],
      "execution_count": null,
      "outputs": []
    },
    {
      "cell_type": "code",
      "metadata": {
        "id": "noVte6DcV6a0"
      },
      "source": [
        "#load best model from frozen training\n",
        "learn.load('best_resnet34')\n"
      ],
      "execution_count": null,
      "outputs": []
    },
    {
      "cell_type": "code",
      "metadata": {
        "id": "uX4ZsjuDeE_Q"
      },
      "source": [
        "learn.unfreeze()"
      ],
      "execution_count": null,
      "outputs": []
    },
    {
      "cell_type": "code",
      "metadata": {
        "id": "U7bqlB4cY0H3"
      },
      "source": [
        "def find_appropriate_lr(model:Learner, lr_diff:int = 15, loss_threshold:float = .05, adjust_value:float = 1, plot:bool = False) -> float:\n",
        "    #Run the Learning Rate Finder\n",
        "    model.lr_find()\n",
        "    \n",
        "    #Get loss values and their corresponding gradients, and get lr values\n",
        "    losses = np.array(model.recorder.losses)\n",
        "    min_loss_index = np.argmin(losses)\n",
        "    \n",
        "    \n",
        "    #loss_grad = np.gradient(losses)\n",
        "    lrs = model.recorder.lrs\n",
        "    \n",
        "    #return the learning rate that produces the minimum loss divide by 10   \n",
        "    return lrs[min_loss_index] / 10"
      ],
      "execution_count": null,
      "outputs": []
    },
    {
      "cell_type": "code",
      "metadata": {
        "id": "RrUI5qc-ecKy"
      },
      "source": [
        "optimal_lr = find_appropriate_lr(learn)"
      ],
      "execution_count": null,
      "outputs": []
    },
    {
      "cell_type": "code",
      "metadata": {
        "id": "HhCKF-AWeiGY"
      },
      "source": [
        "learn.fit_one_cycle(1, max_lr=slice(optimal_lr/10, optimal_lr), callbacks=[early_stop, save_best_model])\n"
      ],
      "execution_count": null,
      "outputs": []
    },
    {
      "cell_type": "code",
      "metadata": {
        "id": "p3EXvjbMvCar"
      },
      "source": [
        "learn.load('best_resnet34')\n"
      ],
      "execution_count": null,
      "outputs": []
    },
    {
      "cell_type": "markdown",
      "metadata": {
        "id": "2UvDkO0cpTVN"
      },
      "source": [
        "# Evaluate Classifier Performance"
      ]
    },
    {
      "cell_type": "code",
      "metadata": {
        "id": "BW2G0iuXjb1K"
      },
      "source": [
        "interp = ClassificationInterpretation.from_learner(learn)\n",
        "interp.plot_confusion_matrix()\n"
      ],
      "execution_count": null,
      "outputs": []
    },
    {
      "cell_type": "code",
      "metadata": {
        "id": "LSRYrNIfjoOc"
      },
      "source": [
        "interp.plot_top_losses(9, figsize=(15,15))\n"
      ],
      "execution_count": null,
      "outputs": []
    },
    {
      "cell_type": "code",
      "metadata": {
        "id": "5le0t_k6jrca"
      },
      "source": [
        "#run inference on test images\n",
        "import glob\n",
        "from IPython.display import Image, display\n",
        "\n",
        "model = learn.model\n",
        "model = model.cuda()\n",
        "for imageName in glob.glob('/content/test/*/*.jpg'):\n",
        "    print(imageName)\n",
        "    img = open_image(imageName)\n",
        "    prediction = learn.predict(img)\n",
        "    #print(prediction)\n",
        "    print(prediction[0])\n",
        "    display(Image(filename=imageName))\n",
        "    print(\"\\n\")"
      ],
      "execution_count": null,
      "outputs": []
    },
    {
      "cell_type": "markdown",
      "metadata": {
        "id": "bdoYCSqupcon"
      },
      "source": [
        "# Save custom classification model for future use"
      ]
    },
    {
      "cell_type": "code",
      "metadata": {
        "id": "iMbXW-l7jZ0e"
      },
      "source": [
        "#model is automatically saved with the \"save_best_model\" callback\n",
        "%ls models/"
      ],
      "execution_count": null,
      "outputs": []
    },
    {
      "cell_type": "code",
      "metadata": {
        "id": "zXlKfOeYZg9M"
      },
      "source": [
        "from google.colab import files\n",
        "files.download('./models/best_resnet34.pth')"
      ],
      "execution_count": null,
      "outputs": []
    }
  ]
}