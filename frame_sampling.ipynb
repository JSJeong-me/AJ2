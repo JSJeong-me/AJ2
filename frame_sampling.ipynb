{
  "nbformat": 4,
  "nbformat_minor": 0,
  "metadata": {
    "colab": {
      "name": "Untitled29.ipynb",
      "provenance": [],
      "authorship_tag": "ABX9TyNDCTgYmwSoQsZG1hs/Ecwk",
      "include_colab_link": true
    },
    "kernelspec": {
      "name": "python3",
      "display_name": "Python 3"
    },
    "language_info": {
      "name": "python"
    }
  },
  "cells": [
    {
      "cell_type": "markdown",
      "metadata": {
        "id": "view-in-github",
        "colab_type": "text"
      },
      "source": [
        "<a href=\"https://colab.research.google.com/github/JSJeong-me/AJ2/blob/main/frame_sampling.ipynb\" target=\"_parent\"><img src=\"https://colab.research.google.com/assets/colab-badge.svg\" alt=\"Open In Colab\"/></a>"
      ]
    },
    {
      "cell_type": "code",
      "source": [
        "from google.colab.patches import cv2_imshow"
      ],
      "metadata": {
        "id": "3-CTxCxFzrhw"
      },
      "execution_count": 1,
      "outputs": []
    },
    {
      "cell_type": "code",
      "execution_count": null,
      "metadata": {
        "id": "fphxfQVgzo0f"
      },
      "outputs": [],
      "source": [
        "import cv2\n",
        "\n",
        "cap = cv2.VideoCapture('20201009.mp4')\n",
        "\n",
        "# Image resolution, image width & height frame cpunts & frame rates \n",
        "print('Frame width:  {0:03d}'.format(round(cap.get(cv2.CAP_PROP_FRAME_WIDTH))))\n",
        "print('Frame height: {0:03d}'.format(round(cap.get(cv2.CAP_PROP_FRAME_HEIGHT))))\n",
        "print('Frame count:  {0:03d}'.format(round(cap.get(cv2.CAP_PROP_FRAME_COUNT))))\n",
        "\n",
        "fps = round(cap.get(cv2.CAP_PROP_FPS))\n",
        "print('FPS:          {0:03d}'.format(fps))"
      ]
    },
    {
      "cell_type": "code",
      "source": [
        "import cv2\n",
        "import time\n",
        "\n",
        "#video = cv2.VideoCapture(0)\n",
        "video = cv2.VideoCapture('20201009.mp4.mp4')\n",
        "\n",
        "# For outpu image save to create cv2.VideoWriter\n",
        "#w = round(cap.get(cv2.CAP_PROP_FRAME_WIDTH))\n",
        "#h = round(cap.get(cv2.CAP_PROP_FRAME_HEIGHT))\n",
        "#fps = cap.get(cv2.CAP_PROP_FPS)\n",
        "\n",
        "#fourcc = cv2.VideoWriter_fourcc(*'DIVX')  # *'DIVX' == 'D','I','V','X'\n",
        "#out = cv2.VideoWriter('.\\\\images\\\\output0.avi', fourcc, fps, (w, h))\n",
        "\n",
        "\n",
        "prev_time = 0\n",
        "FPS = 1 # ! frame per a second\n",
        "\n",
        "while True:\n",
        "\n",
        "    ret, frame = video.read()\n",
        "\n",
        "    if not ret:\n",
        "        break\n",
        "    \n",
        "    frame = cv2.resize(frame, (0, 0), fx=0.25, fy=0.25)  # Resize\n",
        "    \n",
        "    current_time = time.time() - prev_time\n",
        "\n",
        "    if (ret is True) and (current_time > 1./ FPS):\n",
        "        prev_time = time.time()\n",
        "        \n",
        "        cv2_imshow('VideoCapture', frame)\n",
        "        cv2.imwrite('beam{0}.jpg'.format(current_time), frame)\n",
        "\n",
        "        if cv2.waitKey(1) > 0 :\n",
        "            break\n",
        "\n",
        "video.release()\n",
        "cv2.destroyAllWindows()"
      ],
      "metadata": {
        "id": "JV-Xn4H80mdv"
      },
      "execution_count": 3,
      "outputs": []
    }
  ]
}