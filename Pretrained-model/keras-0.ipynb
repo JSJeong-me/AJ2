{
  "nbformat": 4,
  "nbformat_minor": 0,
  "metadata": {
    "colab": {
      "name": "Untitled6.ipynb",
      "provenance": [],
      "authorship_tag": "ABX9TyPpBeHnhuj1uyyO+PEjAGIe",
      "include_colab_link": true
    },
    "kernelspec": {
      "name": "python3",
      "display_name": "Python 3"
    },
    "language_info": {
      "name": "python"
    },
    "accelerator": "GPU",
    "gpuClass": "standard"
  },
  "cells": [
    {
      "cell_type": "markdown",
      "metadata": {
        "id": "view-in-github",
        "colab_type": "text"
      },
      "source": [
        "<a href=\"https://colab.research.google.com/github/JSJeong-me/AJ2/blob/main/Pretrained-model/keras-0.ipynb\" target=\"_parent\"><img src=\"https://colab.research.google.com/assets/colab-badge.svg\" alt=\"Open In Colab\"/></a>"
      ]
    },
    {
      "cell_type": "code",
      "execution_count": 1,
      "metadata": {
        "id": "3AY3gGYnWPsM"
      },
      "outputs": [],
      "source": [
        "import tensorflow as tf\n",
        "from tensorflow.keras import Sequential"
      ]
    },
    {
      "cell_type": "code",
      "source": [
        "from tensorflow.keras.layers import Dense, Input, Flatten, Conv2D, MaxPool2D\n",
        "\n",
        "model = Sequential([\n",
        "          Input(shape=(32,32,3,)),\n",
        "          Conv2D(filters=6, kernel_size=(5,5), padding=\"same\", activation=\"relu\"),\n",
        "          MaxPool2D(pool_size=(2,2)),\n",
        "          Conv2D(filters=16, kernel_size=(5,5), padding=\"same\", activation=\"relu\"),\n",
        "          MaxPool2D(pool_size=(2, 2)),\n",
        "          Conv2D(filters=120, kernel_size=(5,5), padding=\"same\", activation=\"relu\"),\n",
        "          Flatten(),\n",
        "          Dense(units=84, activation=\"relu\"),\n",
        "          Dense(units=10, activation=\"softmax\"),\n",
        "      ])"
      ],
      "metadata": {
        "id": "zI6CDZjCWVVQ"
      },
      "execution_count": 2,
      "outputs": []
    },
    {
      "cell_type": "code",
      "source": [
        "print (model.summary())"
      ],
      "metadata": {
        "colab": {
          "base_uri": "https://localhost:8080/"
        },
        "id": "Ay-ajsCUWafi",
        "outputId": "1341d090-4835-4096-9c72-d1988296288a"
      },
      "execution_count": 3,
      "outputs": [
        {
          "output_type": "stream",
          "name": "stdout",
          "text": [
            "Model: \"sequential\"\n",
            "_________________________________________________________________\n",
            " Layer (type)                Output Shape              Param #   \n",
            "=================================================================\n",
            " conv2d (Conv2D)             (None, 32, 32, 6)         456       \n",
            "                                                                 \n",
            " max_pooling2d (MaxPooling2D  (None, 16, 16, 6)        0         \n",
            " )                                                               \n",
            "                                                                 \n",
            " conv2d_1 (Conv2D)           (None, 16, 16, 16)        2416      \n",
            "                                                                 \n",
            " max_pooling2d_1 (MaxPooling  (None, 8, 8, 16)         0         \n",
            " 2D)                                                             \n",
            "                                                                 \n",
            " conv2d_2 (Conv2D)           (None, 8, 8, 120)         48120     \n",
            "                                                                 \n",
            " flatten (Flatten)           (None, 7680)              0         \n",
            "                                                                 \n",
            " dense (Dense)               (None, 84)                645204    \n",
            "                                                                 \n",
            " dense_1 (Dense)             (None, 10)                850       \n",
            "                                                                 \n",
            "=================================================================\n",
            "Total params: 697,046\n",
            "Trainable params: 697,046\n",
            "Non-trainable params: 0\n",
            "_________________________________________________________________\n",
            "None\n"
          ]
        }
      ]
    },
    {
      "cell_type": "code",
      "source": [
        "from tensorflow import keras \n",
        "\n",
        "(trainX, trainY), (testX, testY) = keras.datasets.cifar10.load_data()\n",
        "model.compile(optimizer=\"adam\", loss=tf.keras.losses.SparseCategoricalCrossentropy(), metrics=\"acc\")\n",
        "\n",
        "history = model.fit(x=trainX, y=trainY, batch_size=256, epochs=10, validation_data=(testX, testY))"
      ],
      "metadata": {
        "colab": {
          "base_uri": "https://localhost:8080/"
        },
        "id": "RiWQBuPuWiaH",
        "outputId": "1b68a578-65cb-4f27-fac4-492eda8f9aec"
      },
      "execution_count": 4,
      "outputs": [
        {
          "output_type": "stream",
          "name": "stdout",
          "text": [
            "Downloading data from https://www.cs.toronto.edu/~kriz/cifar-10-python.tar.gz\n",
            "170500096/170498071 [==============================] - 3s 0us/step\n",
            "170508288/170498071 [==============================] - 3s 0us/step\n",
            "Epoch 1/10\n",
            "196/196 [==============================] - 13s 11ms/step - loss: 2.7265 - acc: 0.3469 - val_loss: 1.5033 - val_acc: 0.4665\n",
            "Epoch 2/10\n",
            "196/196 [==============================] - 2s 8ms/step - loss: 1.3812 - acc: 0.5154 - val_loss: 1.3808 - val_acc: 0.5180\n",
            "Epoch 3/10\n",
            "196/196 [==============================] - 2s 8ms/step - loss: 1.2110 - acc: 0.5794 - val_loss: 1.3496 - val_acc: 0.5247\n",
            "Epoch 4/10\n",
            "196/196 [==============================] - 2s 8ms/step - loss: 1.0899 - acc: 0.6201 - val_loss: 1.3812 - val_acc: 0.5348\n",
            "Epoch 5/10\n",
            "196/196 [==============================] - 2s 8ms/step - loss: 0.9734 - acc: 0.6613 - val_loss: 1.3243 - val_acc: 0.5533\n",
            "Epoch 6/10\n",
            "196/196 [==============================] - 2s 8ms/step - loss: 0.8687 - acc: 0.6988 - val_loss: 1.4255 - val_acc: 0.5461\n",
            "Epoch 7/10\n",
            "196/196 [==============================] - 2s 8ms/step - loss: 0.7734 - acc: 0.7322 - val_loss: 1.4181 - val_acc: 0.5441\n",
            "Epoch 8/10\n",
            "196/196 [==============================] - 2s 8ms/step - loss: 0.6842 - acc: 0.7620 - val_loss: 1.5685 - val_acc: 0.5316\n",
            "Epoch 9/10\n",
            "196/196 [==============================] - 2s 8ms/step - loss: 0.5929 - acc: 0.7960 - val_loss: 1.6585 - val_acc: 0.5330\n",
            "Epoch 10/10\n",
            "196/196 [==============================] - 2s 8ms/step - loss: 0.5278 - acc: 0.8158 - val_loss: 1.7337 - val_acc: 0.5321\n"
          ]
        }
      ]
    },
    {
      "cell_type": "code",
      "source": [
        "history.history"
      ],
      "metadata": {
        "colab": {
          "base_uri": "https://localhost:8080/"
        },
        "id": "21kzT_XfXP7A",
        "outputId": "8a4231ed-7da7-46c6-94cd-04fae4e3b667"
      },
      "execution_count": 7,
      "outputs": [
        {
          "output_type": "execute_result",
          "data": {
            "text/plain": [
              "{'acc': [0.34685999155044556,\n",
              "  0.5153999924659729,\n",
              "  0.5794199705123901,\n",
              "  0.6200600266456604,\n",
              "  0.6612799763679504,\n",
              "  0.6987599730491638,\n",
              "  0.732200026512146,\n",
              "  0.7619600296020508,\n",
              "  0.7959799766540527,\n",
              "  0.815779983997345],\n",
              " 'loss': [2.726546287536621,\n",
              "  1.3812471628189087,\n",
              "  1.2110472917556763,\n",
              "  1.0899227857589722,\n",
              "  0.973423182964325,\n",
              "  0.8686972856521606,\n",
              "  0.7734482288360596,\n",
              "  0.6842149496078491,\n",
              "  0.5929003357887268,\n",
              "  0.5278255939483643],\n",
              " 'val_acc': [0.46650001406669617,\n",
              "  0.5180000066757202,\n",
              "  0.5246999859809875,\n",
              "  0.5347999930381775,\n",
              "  0.5533000230789185,\n",
              "  0.5461000204086304,\n",
              "  0.5440999865531921,\n",
              "  0.5315999984741211,\n",
              "  0.5329999923706055,\n",
              "  0.5321000218391418],\n",
              " 'val_loss': [1.5033055543899536,\n",
              "  1.3807671070098877,\n",
              "  1.3496391773223877,\n",
              "  1.3812487125396729,\n",
              "  1.3242989778518677,\n",
              "  1.4254720211029053,\n",
              "  1.4180819988250732,\n",
              "  1.568464994430542,\n",
              "  1.6585280895233154,\n",
              "  1.7336795330047607]}"
            ]
          },
          "metadata": {},
          "execution_count": 7
        }
      ]
    },
    {
      "cell_type": "code",
      "source": [
        ""
      ],
      "metadata": {
        "id": "iHW2iCicXgGf"
      },
      "execution_count": null,
      "outputs": []
    },
    {
      "cell_type": "code",
      "source": [
        "import tensorflow as tf\n",
        "from tensorflow import keras\n",
        "from keras.layers import Input, Conv2D, BatchNormalization, Add, MaxPool2D, Flatten, Dense\n",
        "from keras.activations import relu\n",
        "from tensorflow.keras.models import Model\n",
        "\n",
        "def residual_block(x, filters):\n",
        "  # store the input tensor to be added later as the identity\n",
        "  identity = x\n",
        "  # change the strides to do like pooling layer (need to see whether we connect before or after this layer though)\n",
        "  x = Conv2D(filters = filters, kernel_size=(3, 3), strides = (1, 1), padding=\"same\")(x)\n",
        "  x = BatchNormalization()(x)\n",
        "  x = relu(x)\n",
        "  x = Conv2D(filters = filters, kernel_size=(3, 3), padding=\"same\")(x)\n",
        "  x = BatchNormalization()(x)\n",
        "  x = Add()([identity, x])\n",
        "  x = relu(x)\n",
        "\n",
        "  return x\n",
        "\n",
        "(trainX, trainY), (testX, testY) = keras.datasets.cifar10.load_data()\n",
        "\n",
        "input_layer = Input(shape=(32,32,3,))\n",
        "x = Conv2D(filters=32, kernel_size=(3, 3), padding=\"same\", activation=\"relu\")(input_layer)\n",
        "x = residual_block(x, 32)\n",
        "x = Conv2D(filters=64, kernel_size=(3, 3), strides=(2, 2), padding=\"same\", activation=\"relu\")(x)\n",
        "x = residual_block(x, 64)\n",
        "x = Conv2D(filters=128, kernel_size=(3, 3), strides=(2, 2), padding=\"same\", activation=\"relu\")(x)\n",
        "x = residual_block(x, 128)\n",
        "x = Flatten()(x)\n",
        "x = Dense(units=84, activation=\"relu\")(x)\n",
        "x = Dense(units=10, activation=\"softmax\")(x)\n",
        "\n",
        "model = Model(inputs=input_layer, outputs = x)\n",
        "print(model.summary())\n",
        "\n",
        "model.compile(optimizer=\"adam\", loss=tf.keras.losses.SparseCategoricalCrossentropy(), metrics=\"acc\")\n",
        "\n",
        "history = model.fit(x=trainX, y=trainY, batch_size=256, epochs=10, validation_data=(testX, testY))"
      ],
      "metadata": {
        "colab": {
          "base_uri": "https://localhost:8080/"
        },
        "id": "OC-yGC1IXs-y",
        "outputId": "34146c9e-af7e-43f4-edeb-1c77e6a8d97d"
      },
      "execution_count": 2,
      "outputs": [
        {
          "output_type": "stream",
          "name": "stdout",
          "text": [
            "Model: \"model\"\n",
            "__________________________________________________________________________________________________\n",
            " Layer (type)                   Output Shape         Param #     Connected to                     \n",
            "==================================================================================================\n",
            " input_1 (InputLayer)           [(None, 32, 32, 3)]  0           []                               \n",
            "                                                                                                  \n",
            " conv2d (Conv2D)                (None, 32, 32, 32)   896         ['input_1[0][0]']                \n",
            "                                                                                                  \n",
            " conv2d_1 (Conv2D)              (None, 32, 32, 32)   9248        ['conv2d[0][0]']                 \n",
            "                                                                                                  \n",
            " batch_normalization (BatchNorm  (None, 32, 32, 32)  128         ['conv2d_1[0][0]']               \n",
            " alization)                                                                                       \n",
            "                                                                                                  \n",
            " tf.nn.relu (TFOpLambda)        (None, 32, 32, 32)   0           ['batch_normalization[0][0]']    \n",
            "                                                                                                  \n",
            " conv2d_2 (Conv2D)              (None, 32, 32, 32)   9248        ['tf.nn.relu[0][0]']             \n",
            "                                                                                                  \n",
            " batch_normalization_1 (BatchNo  (None, 32, 32, 32)  128         ['conv2d_2[0][0]']               \n",
            " rmalization)                                                                                     \n",
            "                                                                                                  \n",
            " add_1 (Add)                    (None, 32, 32, 32)   0           ['conv2d[0][0]',                 \n",
            "                                                                  'batch_normalization_1[0][0]']  \n",
            "                                                                                                  \n",
            " tf.nn.relu_1 (TFOpLambda)      (None, 32, 32, 32)   0           ['add_1[0][0]']                  \n",
            "                                                                                                  \n",
            " conv2d_3 (Conv2D)              (None, 16, 16, 64)   18496       ['tf.nn.relu_1[0][0]']           \n",
            "                                                                                                  \n",
            " conv2d_4 (Conv2D)              (None, 16, 16, 64)   36928       ['conv2d_3[0][0]']               \n",
            "                                                                                                  \n",
            " batch_normalization_2 (BatchNo  (None, 16, 16, 64)  256         ['conv2d_4[0][0]']               \n",
            " rmalization)                                                                                     \n",
            "                                                                                                  \n",
            " tf.nn.relu_2 (TFOpLambda)      (None, 16, 16, 64)   0           ['batch_normalization_2[0][0]']  \n",
            "                                                                                                  \n",
            " conv2d_5 (Conv2D)              (None, 16, 16, 64)   36928       ['tf.nn.relu_2[0][0]']           \n",
            "                                                                                                  \n",
            " batch_normalization_3 (BatchNo  (None, 16, 16, 64)  256         ['conv2d_5[0][0]']               \n",
            " rmalization)                                                                                     \n",
            "                                                                                                  \n",
            " add_2 (Add)                    (None, 16, 16, 64)   0           ['conv2d_3[0][0]',               \n",
            "                                                                  'batch_normalization_3[0][0]']  \n",
            "                                                                                                  \n",
            " tf.nn.relu_3 (TFOpLambda)      (None, 16, 16, 64)   0           ['add_2[0][0]']                  \n",
            "                                                                                                  \n",
            " conv2d_6 (Conv2D)              (None, 8, 8, 128)    73856       ['tf.nn.relu_3[0][0]']           \n",
            "                                                                                                  \n",
            " conv2d_7 (Conv2D)              (None, 8, 8, 128)    147584      ['conv2d_6[0][0]']               \n",
            "                                                                                                  \n",
            " batch_normalization_4 (BatchNo  (None, 8, 8, 128)   512         ['conv2d_7[0][0]']               \n",
            " rmalization)                                                                                     \n",
            "                                                                                                  \n",
            " tf.nn.relu_4 (TFOpLambda)      (None, 8, 8, 128)    0           ['batch_normalization_4[0][0]']  \n",
            "                                                                                                  \n",
            " conv2d_8 (Conv2D)              (None, 8, 8, 128)    147584      ['tf.nn.relu_4[0][0]']           \n",
            "                                                                                                  \n",
            " batch_normalization_5 (BatchNo  (None, 8, 8, 128)   512         ['conv2d_8[0][0]']               \n",
            " rmalization)                                                                                     \n",
            "                                                                                                  \n",
            " add_3 (Add)                    (None, 8, 8, 128)    0           ['conv2d_6[0][0]',               \n",
            "                                                                  'batch_normalization_5[0][0]']  \n",
            "                                                                                                  \n",
            " tf.nn.relu_5 (TFOpLambda)      (None, 8, 8, 128)    0           ['add_3[0][0]']                  \n",
            "                                                                                                  \n",
            " flatten (Flatten)              (None, 8192)         0           ['tf.nn.relu_5[0][0]']           \n",
            "                                                                                                  \n",
            " dense (Dense)                  (None, 84)           688212      ['flatten[0][0]']                \n",
            "                                                                                                  \n",
            " dense_1 (Dense)                (None, 10)           850         ['dense[0][0]']                  \n",
            "                                                                                                  \n",
            "==================================================================================================\n",
            "Total params: 1,171,622\n",
            "Trainable params: 1,170,726\n",
            "Non-trainable params: 896\n",
            "__________________________________________________________________________________________________\n",
            "None\n",
            "Epoch 1/10\n",
            "196/196 [==============================] - 13s 46ms/step - loss: 2.7563 - acc: 0.3155 - val_loss: 1.7117 - val_acc: 0.3797\n",
            "Epoch 2/10\n",
            "196/196 [==============================] - 9s 43ms/step - loss: 1.3491 - acc: 0.5141 - val_loss: 1.5751 - val_acc: 0.4605\n",
            "Epoch 3/10\n",
            "196/196 [==============================] - 9s 44ms/step - loss: 1.1046 - acc: 0.6051 - val_loss: 1.2592 - val_acc: 0.5573\n",
            "Epoch 4/10\n",
            "196/196 [==============================] - 9s 46ms/step - loss: 0.9525 - acc: 0.6589 - val_loss: 1.0062 - val_acc: 0.6466\n",
            "Epoch 5/10\n",
            "196/196 [==============================] - 9s 45ms/step - loss: 0.8371 - acc: 0.7022 - val_loss: 1.1627 - val_acc: 0.6087\n",
            "Epoch 6/10\n",
            "196/196 [==============================] - 9s 45ms/step - loss: 0.7494 - acc: 0.7350 - val_loss: 0.9001 - val_acc: 0.6871\n",
            "Epoch 7/10\n",
            "196/196 [==============================] - 9s 45ms/step - loss: 0.6577 - acc: 0.7654 - val_loss: 1.0669 - val_acc: 0.6438\n",
            "Epoch 8/10\n",
            "196/196 [==============================] - 9s 46ms/step - loss: 0.5830 - acc: 0.7934 - val_loss: 1.1384 - val_acc: 0.6516\n",
            "Epoch 9/10\n",
            "196/196 [==============================] - 9s 45ms/step - loss: 0.5063 - acc: 0.8196 - val_loss: 1.0099 - val_acc: 0.6783\n",
            "Epoch 10/10\n",
            "196/196 [==============================] - 9s 45ms/step - loss: 0.4439 - acc: 0.8434 - val_loss: 1.0479 - val_acc: 0.6668\n"
          ]
        }
      ]
    },
    {
      "cell_type": "code",
      "source": [
        "history.history"
      ],
      "metadata": {
        "colab": {
          "base_uri": "https://localhost:8080/"
        },
        "id": "0SZOn-_DYEVf",
        "outputId": "0313beed-ba7e-4093-a966-c2b1c9806140"
      },
      "execution_count": 4,
      "outputs": [
        {
          "output_type": "execute_result",
          "data": {
            "text/plain": [
              "{'acc': [0.3154999911785126,\n",
              "  0.5140600204467773,\n",
              "  0.6050999760627747,\n",
              "  0.6589000225067139,\n",
              "  0.7021999955177307,\n",
              "  0.7349600195884705,\n",
              "  0.7654399871826172,\n",
              "  0.7933599948883057,\n",
              "  0.8196200132369995,\n",
              "  0.8434200286865234],\n",
              " 'loss': [2.756286859512329,\n",
              "  1.349062442779541,\n",
              "  1.104611873626709,\n",
              "  0.9525060057640076,\n",
              "  0.8370868563652039,\n",
              "  0.7493942975997925,\n",
              "  0.6576525568962097,\n",
              "  0.5830082297325134,\n",
              "  0.5063065886497498,\n",
              "  0.4439014494419098],\n",
              " 'val_acc': [0.3797000050544739,\n",
              "  0.46050000190734863,\n",
              "  0.5572999715805054,\n",
              "  0.6466000080108643,\n",
              "  0.6086999773979187,\n",
              "  0.6870999932289124,\n",
              "  0.6438000202178955,\n",
              "  0.6516000032424927,\n",
              "  0.6783000230789185,\n",
              "  0.6668000221252441],\n",
              " 'val_loss': [1.711663842201233,\n",
              "  1.5751285552978516,\n",
              "  1.2591512203216553,\n",
              "  1.0062308311462402,\n",
              "  1.162660002708435,\n",
              "  0.9001367092132568,\n",
              "  1.066901445388794,\n",
              "  1.1384437084197998,\n",
              "  1.0098501443862915,\n",
              "  1.047869086265564]}"
            ]
          },
          "metadata": {},
          "execution_count": 4
        }
      ]
    },
    {
      "cell_type": "code",
      "source": [
        ""
      ],
      "metadata": {
        "id": "pQOzd66oYUf3"
      },
      "execution_count": null,
      "outputs": []
    },
    {
      "cell_type": "code",
      "source": [
        "import tensorflow as tf\n",
        "from tensorflow.keras.layers import Dense, Input, Flatten, Conv2D, MaxPool2D\n",
        "from tensorflow.keras.models import Model\n",
        "\n",
        "class LeNet5(tf.keras.Model):\n",
        "  def __init__(self):\n",
        "    super(LeNet5, self).__init__()\n",
        "    #creating layers in initializer\n",
        "    self.conv1 = Conv2D(filters=6, kernel_size=(5,5), padding=\"same\", activation=\"relu\")\n",
        "    self.max_pool2x2 = MaxPool2D(pool_size=(2,2))\n",
        "    self.conv2 = Conv2D(filters=16, kernel_size=(5,5), padding=\"same\", activation=\"relu\")\n",
        "    self.conv3 = Conv2D(filters=120, kernel_size=(5,5), padding=\"same\", activation=\"relu\")\n",
        "    self.flatten = Flatten()\n",
        "    self.fc2 = Dense(units=84, activation=\"relu\")\n",
        "    self.fc3=Dense(units=10, activation=\"softmax\")\n",
        "\n",
        "  def call(self, input_tensor):\n",
        "    #don't add layers here, need to create the layers in initializer, otherwise you will get the tf.Variable can only be created once error\n",
        "    x = self.conv1(input_tensor)\n",
        "    x = self.max_pool2x2(x)\n",
        "    x = self.conv2(x)\n",
        "    x = self.max_pool2x2(x)\n",
        "    x = self.conv3(x)\n",
        "    x = self.flatten(x)\n",
        "    x = self.fc2(x)\n",
        "    x = self.fc3(x)\n",
        "    return x  \n",
        "input_layer = Input(shape=(32,32,3,))\n",
        "x = LeNet5()(input_layer)\n",
        "model = Model(inputs=input_layer, outputs=x)\n",
        "print(model.summary(expand_nested=True))"
      ],
      "metadata": {
        "id": "F3TniUwiYE04"
      },
      "execution_count": null,
      "outputs": []
    },
    {
      "cell_type": "code",
      "source": [
        "\n",
        "model.compile(optimizer=\"adam\", loss=tf.keras.losses.SparseCategoricalCrossentropy(), metrics=\"acc\")\n",
        "\n",
        "history = model.fit(x=trainX, y=trainY, batch_size=256, epochs=10, validation_data=(testX, testY))"
      ],
      "metadata": {
        "colab": {
          "base_uri": "https://localhost:8080/"
        },
        "id": "3xnQPYRoYycy",
        "outputId": "d44057e0-95d6-4db5-d900-7bd517332851"
      },
      "execution_count": 6,
      "outputs": [
        {
          "output_type": "stream",
          "name": "stdout",
          "text": [
            "Epoch 1/10\n",
            "196/196 [==============================] - 3s 11ms/step - loss: 4.2032 - acc: 0.3358 - val_loss: 1.5114 - val_acc: 0.4530\n",
            "Epoch 2/10\n",
            "196/196 [==============================] - 2s 8ms/step - loss: 1.4239 - acc: 0.4901 - val_loss: 1.3849 - val_acc: 0.5033\n",
            "Epoch 3/10\n",
            "196/196 [==============================] - 2s 8ms/step - loss: 1.2743 - acc: 0.5516 - val_loss: 1.3232 - val_acc: 0.5315\n",
            "Epoch 4/10\n",
            "196/196 [==============================] - 2s 9ms/step - loss: 1.1678 - acc: 0.5895 - val_loss: 1.3142 - val_acc: 0.5385\n",
            "Epoch 5/10\n",
            "196/196 [==============================] - 2s 8ms/step - loss: 1.0672 - acc: 0.6232 - val_loss: 1.2465 - val_acc: 0.5650\n",
            "Epoch 6/10\n",
            "196/196 [==============================] - 2s 8ms/step - loss: 0.9778 - acc: 0.6582 - val_loss: 1.2390 - val_acc: 0.5759\n",
            "Epoch 7/10\n",
            "196/196 [==============================] - 2s 8ms/step - loss: 0.8924 - acc: 0.6863 - val_loss: 1.3202 - val_acc: 0.5611\n",
            "Epoch 8/10\n",
            "196/196 [==============================] - 2s 8ms/step - loss: 0.8340 - acc: 0.7071 - val_loss: 1.3242 - val_acc: 0.5706\n",
            "Epoch 9/10\n",
            "196/196 [==============================] - 2s 8ms/step - loss: 0.7389 - acc: 0.7414 - val_loss: 1.4010 - val_acc: 0.5757\n",
            "Epoch 10/10\n",
            "196/196 [==============================] - 2s 8ms/step - loss: 0.6720 - acc: 0.7656 - val_loss: 1.4272 - val_acc: 0.5666\n"
          ]
        }
      ]
    },
    {
      "cell_type": "code",
      "source": [
        "history.history"
      ],
      "metadata": {
        "colab": {
          "base_uri": "https://localhost:8080/"
        },
        "id": "mb6Zlf0wY8o9",
        "outputId": "6673d172-51d3-4c02-b9ff-9a37b5eb8784"
      },
      "execution_count": 7,
      "outputs": [
        {
          "output_type": "execute_result",
          "data": {
            "text/plain": [
              "{'acc': [0.3357599973678589,\n",
              "  0.4900999963283539,\n",
              "  0.5516200065612793,\n",
              "  0.5894799828529358,\n",
              "  0.6232200264930725,\n",
              "  0.6582199931144714,\n",
              "  0.6862999796867371,\n",
              "  0.7070599794387817,\n",
              "  0.7414399981498718,\n",
              "  0.76555997133255],\n",
              " 'loss': [4.203187465667725,\n",
              "  1.4239206314086914,\n",
              "  1.2743345499038696,\n",
              "  1.1677796840667725,\n",
              "  1.0671894550323486,\n",
              "  0.9777764081954956,\n",
              "  0.8923988938331604,\n",
              "  0.8340402841567993,\n",
              "  0.7388771772384644,\n",
              "  0.6719924211502075],\n",
              " 'val_acc': [0.453000009059906,\n",
              "  0.5033000111579895,\n",
              "  0.531499981880188,\n",
              "  0.5385000109672546,\n",
              "  0.5649999976158142,\n",
              "  0.5759000182151794,\n",
              "  0.5611000061035156,\n",
              "  0.5705999732017517,\n",
              "  0.5756999850273132,\n",
              "  0.5666000247001648],\n",
              " 'val_loss': [1.5114449262619019,\n",
              "  1.3849068880081177,\n",
              "  1.323238492012024,\n",
              "  1.314215898513794,\n",
              "  1.246523380279541,\n",
              "  1.2390345335006714,\n",
              "  1.3201876878738403,\n",
              "  1.3242268562316895,\n",
              "  1.401015043258667,\n",
              "  1.4272466897964478]}"
            ]
          },
          "metadata": {},
          "execution_count": 7
        }
      ]
    }
  ]
}