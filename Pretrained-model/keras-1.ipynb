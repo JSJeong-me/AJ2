{
  "nbformat": 4,
  "nbformat_minor": 0,
  "metadata": {
    "colab": {
      "name": "Untitled6.ipynb",
      "provenance": [],
      "authorship_tag": "ABX9TyMrjGAlt2RcKrtf+nh4PQ4e",
      "include_colab_link": true
    },
    "kernelspec": {
      "name": "python3",
      "display_name": "Python 3"
    },
    "language_info": {
      "name": "python"
    },
    "accelerator": "GPU",
    "gpuClass": "standard"
  },
  "cells": [
    {
      "cell_type": "markdown",
      "metadata": {
        "id": "view-in-github",
        "colab_type": "text"
      },
      "source": [
        "<a href=\"https://colab.research.google.com/github/JSJeong-me/AJ2/blob/main/Pretrained-model/keras-1.ipynb\" target=\"_parent\"><img src=\"https://colab.research.google.com/assets/colab-badge.svg\" alt=\"Open In Colab\"/></a>"
      ]
    },
    {
      "cell_type": "code",
      "execution_count": 1,
      "metadata": {
        "id": "3AY3gGYnWPsM"
      },
      "outputs": [],
      "source": [
        "import tensorflow as tf\n",
        "from tensorflow.keras import Sequential"
      ]
    },
    {
      "cell_type": "code",
      "source": [
        "from tensorflow.keras.layers import Dense, Input, Flatten, Conv2D, MaxPool2D\n",
        "\n",
        "model = Sequential([\n",
        "          Input(shape=(32,32,3,)),\n",
        "          Conv2D(filters=6, kernel_size=(5,5), padding=\"same\", activation=\"relu\"),\n",
        "          MaxPool2D(pool_size=(2,2)),\n",
        "          Conv2D(filters=16, kernel_size=(5,5), padding=\"same\", activation=\"relu\"),\n",
        "          MaxPool2D(pool_size=(2, 2)),\n",
        "          Conv2D(filters=120, kernel_size=(5,5), padding=\"same\", activation=\"relu\"),\n",
        "          Flatten(),\n",
        "          Dense(units=84, activation=\"relu\"),\n",
        "          Dense(units=10, activation=\"softmax\"),\n",
        "      ])"
      ],
      "metadata": {
        "id": "zI6CDZjCWVVQ"
      },
      "execution_count": 2,
      "outputs": []
    },
    {
      "cell_type": "code",
      "source": [
        "print (model.summary())"
      ],
      "metadata": {
        "colab": {
          "base_uri": "https://localhost:8080/"
        },
        "id": "Ay-ajsCUWafi",
        "outputId": "d3065d51-bfbb-41fe-bfe9-bcdba007ab56"
      },
      "execution_count": 3,
      "outputs": [
        {
          "output_type": "stream",
          "name": "stdout",
          "text": [
            "Model: \"sequential\"\n",
            "_________________________________________________________________\n",
            " Layer (type)                Output Shape              Param #   \n",
            "=================================================================\n",
            " conv2d (Conv2D)             (None, 32, 32, 6)         456       \n",
            "                                                                 \n",
            " max_pooling2d (MaxPooling2D  (None, 16, 16, 6)        0         \n",
            " )                                                               \n",
            "                                                                 \n",
            " conv2d_1 (Conv2D)           (None, 16, 16, 16)        2416      \n",
            "                                                                 \n",
            " max_pooling2d_1 (MaxPooling  (None, 8, 8, 16)         0         \n",
            " 2D)                                                             \n",
            "                                                                 \n",
            " conv2d_2 (Conv2D)           (None, 8, 8, 120)         48120     \n",
            "                                                                 \n",
            " flatten (Flatten)           (None, 7680)              0         \n",
            "                                                                 \n",
            " dense (Dense)               (None, 84)                645204    \n",
            "                                                                 \n",
            " dense_1 (Dense)             (None, 10)                850       \n",
            "                                                                 \n",
            "=================================================================\n",
            "Total params: 697,046\n",
            "Trainable params: 697,046\n",
            "Non-trainable params: 0\n",
            "_________________________________________________________________\n",
            "None\n"
          ]
        }
      ]
    },
    {
      "cell_type": "code",
      "source": [
        "from tensorflow import keras \n",
        "\n",
        "(trainX, trainY), (testX, testY) = keras.datasets.cifar10.load_data()"
      ],
      "metadata": {
        "id": "4IS43Il3tqMH",
        "outputId": "6f042d6f-64aa-4763-d0f6-9bc6908ca1a0",
        "colab": {
          "base_uri": "https://localhost:8080/"
        }
      },
      "execution_count": 4,
      "outputs": [
        {
          "output_type": "stream",
          "name": "stdout",
          "text": [
            "Downloading data from https://www.cs.toronto.edu/~kriz/cifar-10-python.tar.gz\n",
            "170500096/170498071 [==============================] - 13s 0us/step\n",
            "170508288/170498071 [==============================] - 13s 0us/step\n"
          ]
        }
      ]
    },
    {
      "cell_type": "code",
      "source": [
        "type(trainX)"
      ],
      "metadata": {
        "id": "yP_WBAJAtxO7",
        "outputId": "48bc482e-3dc2-4c23-ecbc-cccb77bae670",
        "colab": {
          "base_uri": "https://localhost:8080/"
        }
      },
      "execution_count": 5,
      "outputs": [
        {
          "output_type": "execute_result",
          "data": {
            "text/plain": [
              "numpy.ndarray"
            ]
          },
          "metadata": {},
          "execution_count": 5
        }
      ]
    },
    {
      "cell_type": "code",
      "source": [
        "trainX.shape"
      ],
      "metadata": {
        "id": "GpV31BVTt1IC",
        "outputId": "50ce1cd5-8950-4415-89ee-87c7d410220f",
        "colab": {
          "base_uri": "https://localhost:8080/"
        }
      },
      "execution_count": 6,
      "outputs": [
        {
          "output_type": "execute_result",
          "data": {
            "text/plain": [
              "(50000, 32, 32, 3)"
            ]
          },
          "metadata": {},
          "execution_count": 6
        }
      ]
    },
    {
      "cell_type": "code",
      "source": [
        "testX.shape"
      ],
      "metadata": {
        "id": "V-IiZH00t6OU",
        "outputId": "18306e88-0e9a-4b9b-bbdc-35eb2789bbbd",
        "colab": {
          "base_uri": "https://localhost:8080/"
        }
      },
      "execution_count": 7,
      "outputs": [
        {
          "output_type": "execute_result",
          "data": {
            "text/plain": [
              "(10000, 32, 32, 3)"
            ]
          },
          "metadata": {},
          "execution_count": 7
        }
      ]
    },
    {
      "cell_type": "code",
      "source": [
        "model.compile(optimizer=\"adam\", loss=tf.keras.losses.SparseCategoricalCrossentropy(), metrics=\"acc\")\n",
        "\n",
        "history = model.fit(x=trainX, y=trainY, batch_size=256, epochs=10, validation_data=(testX, testY))"
      ],
      "metadata": {
        "colab": {
          "base_uri": "https://localhost:8080/"
        },
        "id": "RiWQBuPuWiaH",
        "outputId": "19a72f45-e3e8-44eb-f50b-1bd7cb54c077"
      },
      "execution_count": 8,
      "outputs": [
        {
          "output_type": "stream",
          "name": "stdout",
          "text": [
            "Epoch 1/10\n",
            "196/196 [==============================] - 14s 11ms/step - loss: 3.9081 - acc: 0.3451 - val_loss: 1.6067 - val_acc: 0.4340\n",
            "Epoch 2/10\n",
            "196/196 [==============================] - 2s 8ms/step - loss: 1.4640 - acc: 0.4818 - val_loss: 1.4291 - val_acc: 0.4932\n",
            "Epoch 3/10\n",
            "196/196 [==============================] - 2s 8ms/step - loss: 1.3271 - acc: 0.5339 - val_loss: 1.3972 - val_acc: 0.5017\n",
            "Epoch 4/10\n",
            "196/196 [==============================] - 2s 8ms/step - loss: 1.2263 - acc: 0.5685 - val_loss: 1.3652 - val_acc: 0.5178\n",
            "Epoch 5/10\n",
            "196/196 [==============================] - 2s 8ms/step - loss: 1.1330 - acc: 0.6017 - val_loss: 1.3114 - val_acc: 0.5438\n",
            "Epoch 6/10\n",
            "196/196 [==============================] - 2s 8ms/step - loss: 1.0500 - acc: 0.6342 - val_loss: 1.3032 - val_acc: 0.5508\n",
            "Epoch 7/10\n",
            "196/196 [==============================] - 2s 8ms/step - loss: 0.9681 - acc: 0.6626 - val_loss: 1.3887 - val_acc: 0.5423\n",
            "Epoch 8/10\n",
            "196/196 [==============================] - 2s 8ms/step - loss: 0.8965 - acc: 0.6886 - val_loss: 1.3286 - val_acc: 0.5530\n",
            "Epoch 9/10\n",
            "196/196 [==============================] - 2s 8ms/step - loss: 0.8167 - acc: 0.7140 - val_loss: 1.3657 - val_acc: 0.5489\n",
            "Epoch 10/10\n",
            "196/196 [==============================] - 2s 8ms/step - loss: 0.7370 - acc: 0.7431 - val_loss: 1.4542 - val_acc: 0.5514\n"
          ]
        }
      ]
    },
    {
      "cell_type": "code",
      "source": [
        "history.history"
      ],
      "metadata": {
        "colab": {
          "base_uri": "https://localhost:8080/"
        },
        "id": "21kzT_XfXP7A",
        "outputId": "334c36d5-c54d-411c-cfc5-a2e9e16408f3"
      },
      "execution_count": 9,
      "outputs": [
        {
          "output_type": "execute_result",
          "data": {
            "text/plain": [
              "{'acc': [0.34512001276016235,\n",
              "  0.4817799925804138,\n",
              "  0.5339000225067139,\n",
              "  0.5684599876403809,\n",
              "  0.6017400026321411,\n",
              "  0.6341999769210815,\n",
              "  0.6625999808311462,\n",
              "  0.6886000037193298,\n",
              "  0.7139599919319153,\n",
              "  0.7430800199508667],\n",
              " 'loss': [3.908148765563965,\n",
              "  1.464017629623413,\n",
              "  1.3270940780639648,\n",
              "  1.2263476848602295,\n",
              "  1.1330336332321167,\n",
              "  1.0500127077102661,\n",
              "  0.9680518507957458,\n",
              "  0.8964743614196777,\n",
              "  0.8167451620101929,\n",
              "  0.7369998693466187],\n",
              " 'val_acc': [0.4339999854564667,\n",
              "  0.49320000410079956,\n",
              "  0.5016999840736389,\n",
              "  0.517799973487854,\n",
              "  0.5437999963760376,\n",
              "  0.5508000254631042,\n",
              "  0.5422999858856201,\n",
              "  0.5529999732971191,\n",
              "  0.5489000082015991,\n",
              "  0.5514000058174133],\n",
              " 'val_loss': [1.6066758632659912,\n",
              "  1.4291431903839111,\n",
              "  1.3972059488296509,\n",
              "  1.3652429580688477,\n",
              "  1.3114010095596313,\n",
              "  1.3031678199768066,\n",
              "  1.3887042999267578,\n",
              "  1.328635334968567,\n",
              "  1.3657317161560059,\n",
              "  1.4542248249053955]}"
            ]
          },
          "metadata": {},
          "execution_count": 9
        }
      ]
    },
    {
      "cell_type": "code",
      "source": [
        ""
      ],
      "metadata": {
        "id": "iHW2iCicXgGf"
      },
      "execution_count": null,
      "outputs": []
    },
    {
      "cell_type": "code",
      "source": [
        "import tensorflow as tf\n",
        "from tensorflow import keras\n",
        "from keras.layers import Input, Conv2D, BatchNormalization, Add, MaxPool2D, Flatten, Dense\n",
        "from keras.activations import relu\n",
        "from tensorflow.keras.models import Model"
      ],
      "metadata": {
        "id": "-RiuKgPwvK_P"
      },
      "execution_count": 10,
      "outputs": []
    },
    {
      "cell_type": "code",
      "source": [
        "def residual_block(x, filters):\n",
        "  # store the input tensor to be added later as the identity\n",
        "  identity = x\n",
        "  # change the strides to do like pooling layer (need to see whether we connect before or after this layer though)\n",
        "  x = Conv2D(filters = filters, kernel_size=(3, 3), strides = (1, 1), padding=\"same\")(x)\n",
        "  x = BatchNormalization()(x)\n",
        "  x = relu(x)\n",
        "  x = Conv2D(filters = filters, kernel_size=(3, 3), padding=\"same\")(x)\n",
        "  x = BatchNormalization()(x)\n",
        "  x = Add()([identity, x])\n",
        "  x = relu(x)\n",
        "\n",
        "  return x"
      ],
      "metadata": {
        "id": "VNZok2dtvOO2"
      },
      "execution_count": 11,
      "outputs": []
    },
    {
      "cell_type": "code",
      "source": [
        "(trainX, trainY), (testX, testY) = keras.datasets.cifar10.load_data()"
      ],
      "metadata": {
        "id": "P_A5QLL4vVDg"
      },
      "execution_count": 12,
      "outputs": []
    },
    {
      "cell_type": "code",
      "source": [
        "trainX.shape"
      ],
      "metadata": {
        "id": "5UDb9Z9svWss",
        "outputId": "c63fb95c-f240-478d-e5d3-a2537d43b58c",
        "colab": {
          "base_uri": "https://localhost:8080/"
        }
      },
      "execution_count": 13,
      "outputs": [
        {
          "output_type": "execute_result",
          "data": {
            "text/plain": [
              "(50000, 32, 32, 3)"
            ]
          },
          "metadata": {},
          "execution_count": 13
        }
      ]
    },
    {
      "cell_type": "code",
      "source": [
        "input_layer = Input(shape=(32,32,3,))\n",
        "x = Conv2D(filters=32, kernel_size=(3, 3), padding=\"same\", activation=\"relu\")(input_layer)\n",
        "x = residual_block(x, 32)\n",
        "x = Conv2D(filters=64, kernel_size=(3, 3), strides=(2, 2), padding=\"same\", activation=\"relu\")(x)\n",
        "x = residual_block(x, 64)\n",
        "x = Conv2D(filters=128, kernel_size=(3, 3), strides=(2, 2), padding=\"same\", activation=\"relu\")(x)\n",
        "x = residual_block(x, 128)\n",
        "x = Flatten()(x)\n",
        "x = Dense(units=84, activation=\"relu\")(x)\n",
        "x = Dense(units=10, activation=\"softmax\")(x)\n",
        "\n",
        "model = Model(inputs=input_layer, outputs = x)"
      ],
      "metadata": {
        "id": "ebhAvZ5DvnMl"
      },
      "execution_count": 14,
      "outputs": []
    },
    {
      "cell_type": "code",
      "source": [
        "print(model.summary())"
      ],
      "metadata": {
        "id": "i23beINqvo-B",
        "outputId": "ddeeba4d-359e-4ab0-e0f5-cb3a8de46177",
        "colab": {
          "base_uri": "https://localhost:8080/"
        }
      },
      "execution_count": 15,
      "outputs": [
        {
          "output_type": "stream",
          "name": "stdout",
          "text": [
            "Model: \"model\"\n",
            "__________________________________________________________________________________________________\n",
            " Layer (type)                   Output Shape         Param #     Connected to                     \n",
            "==================================================================================================\n",
            " input_2 (InputLayer)           [(None, 32, 32, 3)]  0           []                               \n",
            "                                                                                                  \n",
            " conv2d_3 (Conv2D)              (None, 32, 32, 32)   896         ['input_2[0][0]']                \n",
            "                                                                                                  \n",
            " conv2d_4 (Conv2D)              (None, 32, 32, 32)   9248        ['conv2d_3[0][0]']               \n",
            "                                                                                                  \n",
            " batch_normalization (BatchNorm  (None, 32, 32, 32)  128         ['conv2d_4[0][0]']               \n",
            " alization)                                                                                       \n",
            "                                                                                                  \n",
            " tf.nn.relu (TFOpLambda)        (None, 32, 32, 32)   0           ['batch_normalization[0][0]']    \n",
            "                                                                                                  \n",
            " conv2d_5 (Conv2D)              (None, 32, 32, 32)   9248        ['tf.nn.relu[0][0]']             \n",
            "                                                                                                  \n",
            " batch_normalization_1 (BatchNo  (None, 32, 32, 32)  128         ['conv2d_5[0][0]']               \n",
            " rmalization)                                                                                     \n",
            "                                                                                                  \n",
            " add (Add)                      (None, 32, 32, 32)   0           ['conv2d_3[0][0]',               \n",
            "                                                                  'batch_normalization_1[0][0]']  \n",
            "                                                                                                  \n",
            " tf.nn.relu_1 (TFOpLambda)      (None, 32, 32, 32)   0           ['add[0][0]']                    \n",
            "                                                                                                  \n",
            " conv2d_6 (Conv2D)              (None, 16, 16, 64)   18496       ['tf.nn.relu_1[0][0]']           \n",
            "                                                                                                  \n",
            " conv2d_7 (Conv2D)              (None, 16, 16, 64)   36928       ['conv2d_6[0][0]']               \n",
            "                                                                                                  \n",
            " batch_normalization_2 (BatchNo  (None, 16, 16, 64)  256         ['conv2d_7[0][0]']               \n",
            " rmalization)                                                                                     \n",
            "                                                                                                  \n",
            " tf.nn.relu_2 (TFOpLambda)      (None, 16, 16, 64)   0           ['batch_normalization_2[0][0]']  \n",
            "                                                                                                  \n",
            " conv2d_8 (Conv2D)              (None, 16, 16, 64)   36928       ['tf.nn.relu_2[0][0]']           \n",
            "                                                                                                  \n",
            " batch_normalization_3 (BatchNo  (None, 16, 16, 64)  256         ['conv2d_8[0][0]']               \n",
            " rmalization)                                                                                     \n",
            "                                                                                                  \n",
            " add_1 (Add)                    (None, 16, 16, 64)   0           ['conv2d_6[0][0]',               \n",
            "                                                                  'batch_normalization_3[0][0]']  \n",
            "                                                                                                  \n",
            " tf.nn.relu_3 (TFOpLambda)      (None, 16, 16, 64)   0           ['add_1[0][0]']                  \n",
            "                                                                                                  \n",
            " conv2d_9 (Conv2D)              (None, 8, 8, 128)    73856       ['tf.nn.relu_3[0][0]']           \n",
            "                                                                                                  \n",
            " conv2d_10 (Conv2D)             (None, 8, 8, 128)    147584      ['conv2d_9[0][0]']               \n",
            "                                                                                                  \n",
            " batch_normalization_4 (BatchNo  (None, 8, 8, 128)   512         ['conv2d_10[0][0]']              \n",
            " rmalization)                                                                                     \n",
            "                                                                                                  \n",
            " tf.nn.relu_4 (TFOpLambda)      (None, 8, 8, 128)    0           ['batch_normalization_4[0][0]']  \n",
            "                                                                                                  \n",
            " conv2d_11 (Conv2D)             (None, 8, 8, 128)    147584      ['tf.nn.relu_4[0][0]']           \n",
            "                                                                                                  \n",
            " batch_normalization_5 (BatchNo  (None, 8, 8, 128)   512         ['conv2d_11[0][0]']              \n",
            " rmalization)                                                                                     \n",
            "                                                                                                  \n",
            " add_2 (Add)                    (None, 8, 8, 128)    0           ['conv2d_9[0][0]',               \n",
            "                                                                  'batch_normalization_5[0][0]']  \n",
            "                                                                                                  \n",
            " tf.nn.relu_5 (TFOpLambda)      (None, 8, 8, 128)    0           ['add_2[0][0]']                  \n",
            "                                                                                                  \n",
            " flatten_1 (Flatten)            (None, 8192)         0           ['tf.nn.relu_5[0][0]']           \n",
            "                                                                                                  \n",
            " dense_2 (Dense)                (None, 84)           688212      ['flatten_1[0][0]']              \n",
            "                                                                                                  \n",
            " dense_3 (Dense)                (None, 10)           850         ['dense_2[0][0]']                \n",
            "                                                                                                  \n",
            "==================================================================================================\n",
            "Total params: 1,171,622\n",
            "Trainable params: 1,170,726\n",
            "Non-trainable params: 896\n",
            "__________________________________________________________________________________________________\n",
            "None\n"
          ]
        }
      ]
    },
    {
      "cell_type": "code",
      "source": [
        "\n",
        "\n",
        "\n",
        "\n",
        "\n",
        "model.compile(optimizer=\"adam\", loss=tf.keras.losses.SparseCategoricalCrossentropy(), metrics=\"acc\")\n",
        "\n",
        "history = model.fit(x=trainX, y=trainY, batch_size=256, epochs=10, validation_data=(testX, testY))"
      ],
      "metadata": {
        "colab": {
          "base_uri": "https://localhost:8080/"
        },
        "id": "OC-yGC1IXs-y",
        "outputId": "fecdad44-84f8-4c4c-a438-6eb8dd08a15d"
      },
      "execution_count": 16,
      "outputs": [
        {
          "output_type": "stream",
          "name": "stdout",
          "text": [
            "Epoch 1/10\n",
            "196/196 [==============================] - 11s 50ms/step - loss: 4.2875 - acc: 0.2051 - val_loss: 2.1433 - val_acc: 0.2092\n",
            "Epoch 2/10\n",
            "196/196 [==============================] - 9s 47ms/step - loss: 1.8923 - acc: 0.3007 - val_loss: 1.9857 - val_acc: 0.2703\n",
            "Epoch 3/10\n",
            "196/196 [==============================] - 9s 48ms/step - loss: 1.5196 - acc: 0.4441 - val_loss: 1.7010 - val_acc: 0.4209\n",
            "Epoch 4/10\n",
            "196/196 [==============================] - 9s 47ms/step - loss: 1.2137 - acc: 0.5623 - val_loss: 1.4035 - val_acc: 0.5027\n",
            "Epoch 5/10\n",
            "196/196 [==============================] - 9s 48ms/step - loss: 1.0233 - acc: 0.6354 - val_loss: 1.3389 - val_acc: 0.5461\n",
            "Epoch 6/10\n",
            "196/196 [==============================] - 9s 47ms/step - loss: 0.8893 - acc: 0.6853 - val_loss: 1.3435 - val_acc: 0.5564\n",
            "Epoch 7/10\n",
            "196/196 [==============================] - 9s 46ms/step - loss: 0.7820 - acc: 0.7257 - val_loss: 1.1097 - val_acc: 0.6287\n",
            "Epoch 8/10\n",
            "196/196 [==============================] - 9s 46ms/step - loss: 0.6859 - acc: 0.7609 - val_loss: 0.9325 - val_acc: 0.6826\n",
            "Epoch 9/10\n",
            "196/196 [==============================] - 9s 46ms/step - loss: 0.6127 - acc: 0.7854 - val_loss: 0.8568 - val_acc: 0.7051\n",
            "Epoch 10/10\n",
            "196/196 [==============================] - 9s 47ms/step - loss: 0.5377 - acc: 0.8151 - val_loss: 1.0374 - val_acc: 0.6683\n"
          ]
        }
      ]
    },
    {
      "cell_type": "code",
      "source": [
        "history.history"
      ],
      "metadata": {
        "colab": {
          "base_uri": "https://localhost:8080/"
        },
        "id": "0SZOn-_DYEVf",
        "outputId": "5e65ac51-6357-480f-8cc0-f4508e8e3c76"
      },
      "execution_count": 17,
      "outputs": [
        {
          "output_type": "execute_result",
          "data": {
            "text/plain": [
              "{'acc': [0.20513999462127686,\n",
              "  0.3007200062274933,\n",
              "  0.44405999779701233,\n",
              "  0.5623400211334229,\n",
              "  0.6353800296783447,\n",
              "  0.6853399872779846,\n",
              "  0.7256600260734558,\n",
              "  0.7609000205993652,\n",
              "  0.7854200005531311,\n",
              "  0.8150799870491028],\n",
              " 'loss': [4.287472248077393,\n",
              "  1.8923137187957764,\n",
              "  1.5195796489715576,\n",
              "  1.2137466669082642,\n",
              "  1.023285150527954,\n",
              "  0.8893178701400757,\n",
              "  0.7820066213607788,\n",
              "  0.6859257221221924,\n",
              "  0.6127039790153503,\n",
              "  0.5377119779586792],\n",
              " 'val_acc': [0.20919999480247498,\n",
              "  0.2703000009059906,\n",
              "  0.42089998722076416,\n",
              "  0.5026999711990356,\n",
              "  0.5461000204086304,\n",
              "  0.5564000010490417,\n",
              "  0.6287000179290771,\n",
              "  0.6826000213623047,\n",
              "  0.7050999999046326,\n",
              "  0.6682999730110168],\n",
              " 'val_loss': [2.1433122158050537,\n",
              "  1.9857186079025269,\n",
              "  1.7009687423706055,\n",
              "  1.4035065174102783,\n",
              "  1.3388707637786865,\n",
              "  1.3434516191482544,\n",
              "  1.1097198724746704,\n",
              "  0.9325041770935059,\n",
              "  0.8567658066749573,\n",
              "  1.0373667478561401]}"
            ]
          },
          "metadata": {},
          "execution_count": 17
        }
      ]
    },
    {
      "cell_type": "code",
      "source": [
        "model.save('mymodel.h5')"
      ],
      "metadata": {
        "id": "pQOzd66oYUf3"
      },
      "execution_count": 19,
      "outputs": []
    },
    {
      "cell_type": "code",
      "source": [
        "my_model = model.load_weights('./mymodel.h5')"
      ],
      "metadata": {
        "id": "oWisdE-exaRm"
      },
      "execution_count": 21,
      "outputs": []
    },
    {
      "cell_type": "code",
      "source": [
        "# my_model.predict()"
      ],
      "metadata": {
        "id": "LhDEn_JNxpEu"
      },
      "execution_count": null,
      "outputs": []
    },
    {
      "cell_type": "code",
      "source": [
        "import tensorflow as tf\n",
        "from tensorflow.keras.layers import Dense, Input, Flatten, Conv2D, MaxPool2D\n",
        "from tensorflow.keras.models import Model\n",
        "\n",
        "class LeNet5(tf.keras.Model):\n",
        "  def __init__(self):\n",
        "    super(LeNet5, self).__init__()\n",
        "    #creating layers in initializer\n",
        "    self.conv1 = Conv2D(filters=6, kernel_size=(5,5), padding=\"same\", activation=\"relu\")\n",
        "    self.max_pool2x2 = MaxPool2D(pool_size=(2,2))\n",
        "    self.conv2 = Conv2D(filters=16, kernel_size=(5,5), padding=\"same\", activation=\"relu\")\n",
        "    self.conv3 = Conv2D(filters=120, kernel_size=(5,5), padding=\"same\", activation=\"relu\")\n",
        "    self.flatten = Flatten()\n",
        "    self.fc2 = Dense(units=84, activation=\"relu\")\n",
        "    self.fc3=Dense(units=10, activation=\"softmax\")\n",
        "\n",
        "  def call(self, input_tensor):\n",
        "    #don't add layers here, need to create the layers in initializer, otherwise you will get the tf.Variable can only be created once error\n",
        "    x = self.conv1(input_tensor)\n",
        "    x = self.max_pool2x2(x)\n",
        "    x = self.conv2(x)\n",
        "    x = self.max_pool2x2(x)\n",
        "    x = self.conv3(x)\n",
        "    x = self.flatten(x)\n",
        "    x = self.fc2(x)\n",
        "    x = self.fc3(x)\n",
        "    return x  \n",
        "input_layer = Input(shape=(32,32,3,))\n",
        "x = LeNet5()(input_layer)\n",
        "model = Model(inputs=input_layer, outputs=x)\n",
        "print(model.summary(expand_nested=True))"
      ],
      "metadata": {
        "id": "F3TniUwiYE04",
        "outputId": "65275c62-31b2-45e9-a4a1-e84358a495a9",
        "colab": {
          "base_uri": "https://localhost:8080/"
        }
      },
      "execution_count": 22,
      "outputs": [
        {
          "output_type": "stream",
          "name": "stdout",
          "text": [
            "Model: \"model_1\"\n",
            "_________________________________________________________________\n",
            " Layer (type)                Output Shape              Param #   \n",
            "=================================================================\n",
            " input_3 (InputLayer)        [(None, 32, 32, 3)]       0         \n",
            "                                                                 \n",
            " le_net5 (LeNet5)            (None, 10)                697046    \n",
            "|¯¯¯¯¯¯¯¯¯¯¯¯¯¯¯¯¯¯¯¯¯¯¯¯¯¯¯¯¯¯¯¯¯¯¯¯¯¯¯¯¯¯¯¯¯¯¯¯¯¯¯¯¯¯¯¯¯¯¯¯¯¯¯|\n",
            "| conv2d_12 (Conv2D)        multiple                  456       |\n",
            "|                                                               |\n",
            "| max_pooling2d_2 (MaxPooling  multiple               0         |\n",
            "| 2D)                                                           |\n",
            "|                                                               |\n",
            "| conv2d_13 (Conv2D)        multiple                  2416      |\n",
            "|                                                               |\n",
            "| conv2d_14 (Conv2D)        multiple                  48120     |\n",
            "|                                                               |\n",
            "| flatten_2 (Flatten)       multiple                  0         |\n",
            "|                                                               |\n",
            "| dense_4 (Dense)           multiple                  645204    |\n",
            "|                                                               |\n",
            "| dense_5 (Dense)           multiple                  850       |\n",
            "¯¯¯¯¯¯¯¯¯¯¯¯¯¯¯¯¯¯¯¯¯¯¯¯¯¯¯¯¯¯¯¯¯¯¯¯¯¯¯¯¯¯¯¯¯¯¯¯¯¯¯¯¯¯¯¯¯¯¯¯¯¯¯¯¯\n",
            "=================================================================\n",
            "Total params: 697,046\n",
            "Trainable params: 697,046\n",
            "Non-trainable params: 0\n",
            "_________________________________________________________________\n",
            "None\n"
          ]
        }
      ]
    },
    {
      "cell_type": "code",
      "source": [
        "\n",
        "model.compile(optimizer=\"adam\", loss=tf.keras.losses.SparseCategoricalCrossentropy(), metrics=\"acc\")\n",
        "\n",
        "history = model.fit(x=trainX, y=trainY, batch_size=256, epochs=10, validation_data=(testX, testY))"
      ],
      "metadata": {
        "colab": {
          "base_uri": "https://localhost:8080/"
        },
        "id": "3xnQPYRoYycy",
        "outputId": "21860e62-fdac-4ae6-eeda-4e6e3605e76f"
      },
      "execution_count": 23,
      "outputs": [
        {
          "output_type": "stream",
          "name": "stdout",
          "text": [
            "Epoch 1/10\n",
            "196/196 [==============================] - 2s 10ms/step - loss: 4.0077 - acc: 0.3562 - val_loss: 1.5351 - val_acc: 0.4550\n",
            "Epoch 2/10\n",
            "196/196 [==============================] - 2s 8ms/step - loss: 1.3905 - acc: 0.5065 - val_loss: 1.3742 - val_acc: 0.5071\n",
            "Epoch 3/10\n",
            "196/196 [==============================] - 2s 8ms/step - loss: 1.2211 - acc: 0.5692 - val_loss: 1.3168 - val_acc: 0.5366\n",
            "Epoch 4/10\n",
            "196/196 [==============================] - 2s 8ms/step - loss: 1.0738 - acc: 0.6222 - val_loss: 1.3159 - val_acc: 0.5447\n",
            "Epoch 5/10\n",
            "196/196 [==============================] - 2s 9ms/step - loss: 0.9591 - acc: 0.6644 - val_loss: 1.3784 - val_acc: 0.5357\n",
            "Epoch 6/10\n",
            "196/196 [==============================] - 2s 9ms/step - loss: 0.8524 - acc: 0.7012 - val_loss: 1.3940 - val_acc: 0.5396\n",
            "Epoch 7/10\n",
            "196/196 [==============================] - 2s 8ms/step - loss: 0.7429 - acc: 0.7392 - val_loss: 1.4738 - val_acc: 0.5407\n",
            "Epoch 8/10\n",
            "196/196 [==============================] - 2s 8ms/step - loss: 0.6529 - acc: 0.7697 - val_loss: 1.5282 - val_acc: 0.5409\n",
            "Epoch 9/10\n",
            "196/196 [==============================] - 2s 9ms/step - loss: 0.5608 - acc: 0.8031 - val_loss: 1.6849 - val_acc: 0.5247\n",
            "Epoch 10/10\n",
            "196/196 [==============================] - 2s 8ms/step - loss: 0.5056 - acc: 0.8223 - val_loss: 1.8096 - val_acc: 0.5306\n"
          ]
        }
      ]
    },
    {
      "cell_type": "code",
      "source": [
        "history.history"
      ],
      "metadata": {
        "colab": {
          "base_uri": "https://localhost:8080/"
        },
        "id": "mb6Zlf0wY8o9",
        "outputId": "cae0322e-b790-4ccd-f4fd-a1304fb06852"
      },
      "execution_count": 24,
      "outputs": [
        {
          "output_type": "execute_result",
          "data": {
            "text/plain": [
              "{'acc': [0.35624000430107117,\n",
              "  0.5065000057220459,\n",
              "  0.5692200064659119,\n",
              "  0.6222400069236755,\n",
              "  0.6644399762153625,\n",
              "  0.701200008392334,\n",
              "  0.7392200231552124,\n",
              "  0.7696999907493591,\n",
              "  0.803059995174408,\n",
              "  0.8222799897193909],\n",
              " 'loss': [4.007747173309326,\n",
              "  1.3904942274093628,\n",
              "  1.2211066484451294,\n",
              "  1.07382333278656,\n",
              "  0.959109902381897,\n",
              "  0.8523866534233093,\n",
              "  0.7428942918777466,\n",
              "  0.6528764963150024,\n",
              "  0.5607777833938599,\n",
              "  0.5055551528930664],\n",
              " 'val_acc': [0.45500001311302185,\n",
              "  0.507099986076355,\n",
              "  0.5365999937057495,\n",
              "  0.544700026512146,\n",
              "  0.5357000231742859,\n",
              "  0.5396000146865845,\n",
              "  0.5407000184059143,\n",
              "  0.5408999919891357,\n",
              "  0.5246999859809875,\n",
              "  0.5306000113487244],\n",
              " 'val_loss': [1.5350816249847412,\n",
              "  1.3741546869277954,\n",
              "  1.3167816400527954,\n",
              "  1.315933346748352,\n",
              "  1.3783820867538452,\n",
              "  1.3939692974090576,\n",
              "  1.4738249778747559,\n",
              "  1.5282349586486816,\n",
              "  1.6849286556243896,\n",
              "  1.8096134662628174]}"
            ]
          },
          "metadata": {},
          "execution_count": 24
        }
      ]
    }
  ]
}