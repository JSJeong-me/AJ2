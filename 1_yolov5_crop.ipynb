{
  "cells": [
    {
      "cell_type": "markdown",
      "metadata": {
        "id": "view-in-github",
        "colab_type": "text"
      },
      "source": [
        "<a href=\"https://colab.research.google.com/github/JSJeong-me/AJ2/blob/main/1_yolov5_crop.ipynb\" target=\"_parent\"><img src=\"https://colab.research.google.com/assets/colab-badge.svg\" alt=\"Open In Colab\"/></a>"
      ]
    },
    {
      "cell_type": "code",
      "execution_count": null,
      "id": "00e496dc-2851-4d51-9df5-96c222d4223b",
      "metadata": {
        "id": "00e496dc-2851-4d51-9df5-96c222d4223b"
      },
      "outputs": [],
      "source": [
        ""
      ]
    },
    {
      "cell_type": "code",
      "execution_count": null,
      "id": "da68b377-0609-455e-872f-f64f9931d75e",
      "metadata": {
        "id": "da68b377-0609-455e-872f-f64f9931d75e"
      },
      "outputs": [],
      "source": [
        "import torch\n",
        "\n",
        "# Model\n",
        "model = torch.hub.load('ultralytics/yolov5', 'yolov5s')"
      ]
    },
    {
      "cell_type": "code",
      "execution_count": null,
      "id": "619c6914-5761-4e6c-ad62-7c2046a211da",
      "metadata": {
        "id": "619c6914-5761-4e6c-ad62-7c2046a211da"
      },
      "outputs": [],
      "source": [
        "# Image\n",
        "img = '.\\\\elephant2.png'\n",
        "\n",
        "# Inference\n",
        "results = model(img)\n",
        "\n",
        "results.pandas().xyxy[0]"
      ]
    },
    {
      "cell_type": "code",
      "execution_count": null,
      "id": "29def828-942c-4292-8ad4-215c22bb64ea",
      "metadata": {
        "id": "29def828-942c-4292-8ad4-215c22bb64ea"
      },
      "outputs": [],
      "source": [
        "import cv2"
      ]
    },
    {
      "cell_type": "code",
      "execution_count": null,
      "id": "3e4d8429-b5ea-4bea-ab56-d3640092936d",
      "metadata": {
        "id": "3e4d8429-b5ea-4bea-ab56-d3640092936d"
      },
      "outputs": [],
      "source": [
        "src = cv2.imread('.\\\\elephant2.png')"
      ]
    },
    {
      "cell_type": "code",
      "execution_count": null,
      "id": "9457bde4-5c17-4b49-929f-34d56e18017b",
      "metadata": {
        "id": "9457bde4-5c17-4b49-929f-34d56e18017b"
      },
      "outputs": [],
      "source": [
        "elephant1 = src[171:318, 71:205]"
      ]
    },
    {
      "cell_type": "code",
      "execution_count": null,
      "id": "fadc8895-99f8-4431-acba-9a820ff0b8c8",
      "metadata": {
        "id": "fadc8895-99f8-4431-acba-9a820ff0b8c8"
      },
      "outputs": [],
      "source": [
        "elephant2 = src[71:518, 254:869]"
      ]
    },
    {
      "cell_type": "code",
      "execution_count": null,
      "id": "80b4a7c0-984b-49b1-9728-7bf6e7a5cba4",
      "metadata": {
        "id": "80b4a7c0-984b-49b1-9728-7bf6e7a5cba4"
      },
      "outputs": [],
      "source": [
        "cv2.imshow('Image', src)\n",
        "cv2.imshow('Crop 1', elephant1)\n",
        "cv2.imshow('Crop 2', elephant2)\n",
        "cv2.waitKey(0) # 0 forever "
      ]
    },
    {
      "cell_type": "code",
      "execution_count": null,
      "id": "f6ce56d1-3fc0-47f4-99ce-561172956313",
      "metadata": {
        "id": "f6ce56d1-3fc0-47f4-99ce-561172956313"
      },
      "outputs": [],
      "source": [
        "cv2.imwrite('.\\\\crop_elephant1.png', elephant1)\n",
        "cv2.imwrite('.\\\\crop_elephant2.png', elephant2)"
      ]
    },
    {
      "cell_type": "code",
      "execution_count": null,
      "id": "6f7be265-c38f-47ef-a4da-b4c939eba94b",
      "metadata": {
        "id": "6f7be265-c38f-47ef-a4da-b4c939eba94b"
      },
      "outputs": [],
      "source": [
        "cv2.destroyAllWindows()"
      ]
    }
  ],
  "metadata": {
    "kernelspec": {
      "display_name": "Python KOSA",
      "language": "python",
      "name": "kosa"
    },
    "language_info": {
      "codemirror_mode": {
        "name": "ipython",
        "version": 3
      },
      "file_extension": ".py",
      "mimetype": "text/x-python",
      "name": "python",
      "nbconvert_exporter": "python",
      "pygments_lexer": "ipython3",
      "version": "3.8.12"
    },
    "colab": {
      "name": "1-yolov5_cv2_1.ipynb",
      "provenance": [],
      "include_colab_link": true
    }
  },
  "nbformat": 4,
  "nbformat_minor": 5
}